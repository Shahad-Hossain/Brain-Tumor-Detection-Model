{
 "cells": [
  {
   "cell_type": "code",
   "execution_count": null,
   "id": "4aa6d43b",
   "metadata": {},
   "outputs": [],
   "source": [
    "import numpy as np\n",
    "import torch\n",
    "import os\n",
    "import torch.optim as optim\n",
    "import torch.nn as nn\n",
    "from torch.utils.data import Dataset, DataLoader\n",
    "from torchvision import transforms\n",
    "from sklearn.model_selection import train_test_split\n",
    "from PIL import Image\n",
    "from sklearn.preprocessing import LabelEncoder\n",
    "import matplotlib.pyplot as plt"
   ]
  },
  {
   "cell_type": "code",
   "execution_count": 140,
   "id": "3706aa48",
   "metadata": {},
   "outputs": [],
   "source": [
    "# Device configuration\n",
    "device = torch.device('cuda' if torch.cuda.is_available() else 'cpu')"
   ]
  },
  {
   "cell_type": "code",
   "execution_count": 141,
   "id": "f39cc0a0",
   "metadata": {},
   "outputs": [],
   "source": [
    "class BrainTumorDataset(Dataset):\n",
    "    def __init__(self, image_paths, labels, transform=None):\n",
    "        self.image_paths = image_paths\n",
    "        self.labels = labels\n",
    "        self.transform = transform\n",
    "\n",
    "    def __len__(self):\n",
    "        return len(self.image_paths)\n",
    "\n",
    "    def __getitem__(self, idx):\n",
    "        image_path = self.image_paths[idx]\n",
    "        label = self.labels[idx]\n",
    "\n",
    "        image = Image.open(image_path).convert('RGB')\n",
    "        if self.transform:\n",
    "            image = self.transform(image)\n",
    "\n",
    "        return image, torch.tensor(label, dtype=torch.float32)\n",
    "\n",
    "# CNN Model class\n",
    "class CNNmodel(nn.Module):\n",
    "    def __init__(self):\n",
    "        super(CNNmodel, self).__init__()\n",
    "\n",
    "        self.conv1 = nn.Conv2d(3, 32, kernel_size=3, padding=1)\n",
    "        self.conv2 = nn.Conv2d(32, 64, kernel_size=3, padding=1)\n",
    "        self.conv3 = nn.Conv2d(64, 128, kernel_size=3, padding=1)\n",
    "\n",
    "        self.lin1 = nn.Linear(128 * 32 * 32, 256)\n",
    "        self.lin2 = nn.Linear(256, 1)\n",
    "        self.sigmoid = nn.Sigmoid()\n",
    "\n",
    "    def forward(self, x):\n",
    "        x = torch.relu(self.conv1(x))\n",
    "        x = torch.max_pool2d(x, 2)\n",
    "        x = torch.relu(self.conv2(x))\n",
    "        x = torch.max_pool2d(x, 2)\n",
    "        x = torch.relu(self.conv3(x))\n",
    "        x = torch.max_pool2d(x, 2)\n",
    "\n",
    "        x = x.view(x.size(0), -1)\n",
    "        x = torch.relu(self.lin1(x))\n",
    "        x = self.lin2(x)\n",
    "        x = self.sigmoid(x)\n",
    "\n",
    "        return x\n"
   ]
  },
  {
   "cell_type": "code",
   "execution_count": 142,
   "id": "e3e41f12",
   "metadata": {},
   "outputs": [],
   "source": [
    "transform = transforms.Compose([\n",
    "    transforms.Resize((256, 256)),  # Use smaller images for performance\n",
    "    transforms.ToTensor()\n",
    "])\n",
    "\n",
    "dataPaths = [\"PMRAM Bangladeshi Brain Cancer - MRI Dataset/PMRAM Bangladeshi Brain Cancer - MRI Dataset/Augmented Data/Augmented/512Glioma\",\n",
    "             \"PMRAM Bangladeshi Brain Cancer - MRI Dataset/PMRAM Bangladeshi Brain Cancer - MRI Dataset/Augmented Data/Augmented/512Meningioma\",\n",
    "             \"PMRAM Bangladeshi Brain Cancer - MRI Dataset/PMRAM Bangladeshi Brain Cancer - MRI Dataset/Augmented Data/Augmented/512Pituitary\",\n",
    "             \"PMRAM Bangladeshi Brain Cancer - MRI Dataset/PMRAM Bangladeshi Brain Cancer - MRI Dataset/Augmented Data/Augmented/512Normal\"]\n",
    "\n",
    "validImageTypes = ('.png', '.jpg', '.jpeg', '.bmp', '.gif')\n",
    "\n",
    "tumorFiles, normFiles = [], []\n",
    "\n",
    "for idx, path in enumerate(dataPaths):\n",
    "    for filename in os.listdir(path):\n",
    "        if filename.endswith(validImageTypes):\n",
    "            image_path = os.path.join(path, filename)\n",
    "            if idx < 3:\n",
    "                tumorFiles.append(image_path)\n",
    "            else:\n",
    "                normFiles.append(image_path)\n",
    "\n",
    "allFiles = np.array(tumorFiles + normFiles)\n",
    "labels = np.array([1] * len(tumorFiles) + [0] * len(normFiles))"
   ]
  },
  {
   "cell_type": "code",
   "execution_count": 143,
   "id": "cc6d6b41",
   "metadata": {},
   "outputs": [],
   "source": [
    "X_train, X_test, Y_train, Y_test = train_test_split(allFiles, labels, test_size=0.2, random_state=42)\n",
    "\n",
    "train_dataset = BrainTumorDataset(X_train, Y_train, transform)\n",
    "test_dataset = BrainTumorDataset(X_test, Y_test, transform)\n",
    "\n",
    "train_loader = DataLoader(train_dataset, batch_size=32, shuffle=True)\n",
    "test_loader = DataLoader(test_dataset, batch_size=32, shuffle=False)"
   ]
  },
  {
   "cell_type": "code",
   "execution_count": 144,
   "id": "746b3be5",
   "metadata": {},
   "outputs": [],
   "source": [
    "model = CNNmodel().to(device)\n",
    "criterion = nn.BCELoss()\n",
    "optimizer = optim.Adam(model.parameters(), lr=0.001) #learning rate 0.001"
   ]
  },
  {
   "cell_type": "code",
   "execution_count": 145,
   "id": "28801450",
   "metadata": {},
   "outputs": [],
   "source": [
    "def train_model(model, train_loader, criterion, optimizer, num_epochs=10):\n",
    "    model.train()\n",
    "\n",
    "    for epoch in range(num_epochs):\n",
    "        running_loss = 0.0\n",
    "        correct = 0\n",
    "        total = 0\n",
    "\n",
    "        for inputs, labels in train_loader:\n",
    "            inputs, labels = inputs.to(device), labels.to(device)\n",
    "            optimizer.zero_grad()\n",
    "\n",
    "            outputs = model(inputs)\n",
    "            loss = criterion(outputs.squeeze(), labels)\n",
    "\n",
    "            loss.backward()\n",
    "            optimizer.step()\n",
    "\n",
    "            running_loss += loss.item()\n",
    "            predicted = (outputs.squeeze() > 0.5).float()\n",
    "            correct += (predicted == labels).sum().item()\n",
    "            total += labels.size(0)\n",
    "\n",
    "        epoch_loss = running_loss / len(train_loader)\n",
    "        epoch_accuracy = 100 * correct / total\n",
    "        print(f\"Epoch {epoch+1}/{num_epochs}, Loss: {epoch_loss:.4f}, Accuracy: {epoch_accuracy:.2f}%\")\n",
    "\n",
    "def evaluate_model(model, test_loader):\n",
    "    model.eval()\n",
    "    correct = 0\n",
    "    total = 0\n",
    "    with torch.no_grad():\n",
    "        for inputs, labels in test_loader:\n",
    "            inputs, labels = inputs.to(device), labels.to(device)\n",
    "            outputs = model(inputs)\n",
    "            predicted = (outputs.squeeze() > 0.5).float()\n",
    "            correct += (predicted == labels).sum().item()\n",
    "            total += labels.size(0)"
   ]
  },
  {
   "cell_type": "code",
   "execution_count": 146,
   "id": "489a236e",
   "metadata": {},
   "outputs": [
    {
     "name": "stdout",
     "output_type": "stream",
     "text": [
      "Epoch 1/10, Loss: 0.4333, Accuracy: 82.49%\n",
      "Epoch 2/10, Loss: 0.2961, Accuracy: 88.34%\n",
      "Epoch 3/10, Loss: 0.2317, Accuracy: 90.53%\n",
      "Epoch 4/10, Loss: 0.1760, Accuracy: 92.55%\n",
      "Epoch 5/10, Loss: 0.1240, Accuracy: 94.98%\n",
      "Epoch 6/10, Loss: 0.0816, Accuracy: 96.92%\n",
      "Epoch 7/10, Loss: 0.0393, Accuracy: 98.79%\n",
      "Epoch 8/10, Loss: 0.0236, Accuracy: 99.15%\n",
      "Epoch 9/10, Loss: 0.0256, Accuracy: 99.23%\n",
      "Epoch 10/10, Loss: 0.0176, Accuracy: 99.44%\n"
     ]
    }
   ],
   "source": [
    "# Train the model\n",
    "train_model(model, train_loader, criterion, optimizer, num_epochs=10)\n",
    "\n",
    "# Evaluate the model\n",
    "evaluate_model(model, test_loader)"
   ]
  },
  {
   "cell_type": "code",
   "execution_count": 147,
   "id": "f6f556fa",
   "metadata": {},
   "outputs": [],
   "source": [
    "torch.save(model.state_dict(), \"brain_tumor_model.pth\")"
   ]
  },
  {
   "cell_type": "code",
   "execution_count": 148,
   "id": "7e247147",
   "metadata": {},
   "outputs": [
    {
     "data": {
      "text/plain": [
       "CNNmodel(\n",
       "  (conv1): Conv2d(3, 32, kernel_size=(3, 3), stride=(1, 1), padding=(1, 1))\n",
       "  (conv2): Conv2d(32, 64, kernel_size=(3, 3), stride=(1, 1), padding=(1, 1))\n",
       "  (conv3): Conv2d(64, 128, kernel_size=(3, 3), stride=(1, 1), padding=(1, 1))\n",
       "  (lin1): Linear(in_features=131072, out_features=256, bias=True)\n",
       "  (lin2): Linear(in_features=256, out_features=1, bias=True)\n",
       "  (sigmoid): Sigmoid()\n",
       ")"
      ]
     },
     "execution_count": 148,
     "metadata": {},
     "output_type": "execute_result"
    }
   ],
   "source": [
    "# Define device\n",
    "device = torch.device('cuda' if torch.cuda.is_available() else 'cpu')\n",
    "\n",
    "# Load model\n",
    "model = CNNmodel().to(device)\n",
    "model.load_state_dict(torch.load('brain_tumor_model.pth', map_location=device))\n",
    "model.eval()"
   ]
  },
  {
   "cell_type": "code",
   "execution_count": null,
   "id": "c70a34eb",
   "metadata": {},
   "outputs": [],
   "source": [
    "transform = transforms.Compose([\n",
    "    transforms.Resize((256, 256)), \n",
    "    transforms.ToTensor()\n",
    "])\n",
    "\n",
    "# Load image\n",
    "image_path = 'test_image.jpeg'\n",
    "image = Image.open(image_path).convert('RGB')\n",
    "input_tensor = transform(image).unsqueeze(0).to(device)  # add batch dimension"
   ]
  },
  {
   "cell_type": "code",
   "execution_count": 160,
   "id": "374515df",
   "metadata": {},
   "outputs": [
    {
     "name": "stdout",
     "output_type": "stream",
     "text": [
      "Prediction: No tumor detected (Normal)\n"
     ]
    }
   ],
   "source": [
    "with torch.no_grad():\n",
    "    output = model(input_tensor)\n",
    "    prediction = (output.item() > 0.5)\n",
    "\n",
    "if prediction:\n",
    "    print(\"Prediction: Tumor detected\")\n",
    "else:\n",
    "    print(\"Prediction: No tumor detected (Normal)\")"
   ]
  }
 ],
 "metadata": {
  "kernelspec": {
   "display_name": ".venv",
   "language": "python",
   "name": "python3"
  },
  "language_info": {
   "codemirror_mode": {
    "name": "ipython",
    "version": 3
   },
   "file_extension": ".py",
   "mimetype": "text/x-python",
   "name": "python",
   "nbconvert_exporter": "python",
   "pygments_lexer": "ipython3",
   "version": "3.13.3"
  }
 },
 "nbformat": 4,
 "nbformat_minor": 5
}
